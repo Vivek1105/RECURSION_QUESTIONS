{
 "cells": [
  {
   "cell_type": "code",
   "execution_count": 7,
   "id": "39fb4faf",
   "metadata": {},
   "outputs": [
    {
     "name": "stdout",
     "output_type": "stream",
     "text": [
      "45\n",
      "0\n"
     ]
    }
   ],
   "source": [
    "# sum of digits\n",
    "def recurSum(n,m):\n",
    "    if :\n",
    "        return n\n",
    "    return (n % 10 * recurSum(int(n / 10)))\n",
    " \n",
    "# Driver code\n",
    "n = int(input())\n",
    "print(recurSum(n))\n",
    "\n"
   ]
  },
  {
   "cell_type": "code",
   "execution_count": null,
   "id": "23a848ea",
   "metadata": {},
   "outputs": [],
   "source": []
  },
  {
   "cell_type": "code",
   "execution_count": 14,
   "id": "f567f8aa",
   "metadata": {},
   "outputs": [
    {
     "name": "stdout",
     "output_type": "stream",
     "text": [
      "0\n",
      "0\n",
      "0\n"
     ]
    }
   ],
   "source": [
    "def product( x , y ):\n",
    "    if x < y:\n",
    "        return product(y, x)\n",
    "    \n",
    "    elif y != 0:\n",
    "        return (x + product(x, y - 1))\n",
    "    \n",
    "    else:\n",
    "        return 0\n",
    " \n",
    "x =int(input())\n",
    "y = int(input())\n",
    "print( product(x, y))"
   ]
  },
  {
   "cell_type": "code",
   "execution_count": 16,
   "id": "e7bfaede",
   "metadata": {},
   "outputs": [
    {
     "name": "stdout",
     "output_type": "stream",
     "text": [
      "1231\n",
      "1231\n"
     ]
    }
   ],
   "source": [
    "def stringToInt(str):\n",
    " \n",
    "    if (len(str) == 1):\n",
    "        return ord(str[0]) - ord('0');\n",
    " \n",
    "    y = stringToInt(str[1:]);\n",
    "    x = ord(str[0]) - ord('0');\n",
    "    x = x * (10**(len(str) - 1)) + y;\n",
    "    return int(x);\n",
    " \n",
    "# Driver code\n",
    "if __name__ == '__main__':\n",
    "    str = input()\n",
    "    print(stringToInt(str));"
   ]
  },
  {
   "cell_type": "code",
   "execution_count": null,
   "id": "e6434465",
   "metadata": {},
   "outputs": [],
   "source": []
  },
  {
   "cell_type": "code",
   "execution_count": 1,
   "id": "a3593022",
   "metadata": {},
   "outputs": [
    {
     "name": "stdout",
     "output_type": "stream",
     "text": [
      "4\n",
      "1.93750\n"
     ]
    }
   ],
   "source": [
    "#GEOMETRIC SUM \n",
    "def sum(n):\n",
    "    if(n==0):\n",
    "        return 1\n",
    "    ans = sum(n-1) + (1/2)**n\n",
    "    return ans\n",
    "\n",
    "n = int(input())\n",
    "ans = sum(n)\n",
    "print(\"%.5f\" %ans)"
   ]
  },
  {
   "cell_type": "code",
   "execution_count": 2,
   "id": "4c65342a",
   "metadata": {},
   "outputs": [
    {
     "name": "stdout",
     "output_type": "stream",
     "text": [
      "racecar\n",
      "true\n"
     ]
    }
   ],
   "source": [
    "#Check Palindrome\n",
    "def palindrome(s):\n",
    "    if len(s)==0:\n",
    "        return s\n",
    "\n",
    "    if s[0:]==s[::-1]:\n",
    "        return 'true'\n",
    "    else:\n",
    "        return 'false'\n",
    "\n",
    "    \n",
    "s=input()\n",
    "print(palindrome(s))"
   ]
  },
  {
   "cell_type": "code",
   "execution_count": 3,
   "id": "8be3c8a2",
   "metadata": {},
   "outputs": [
    {
     "name": "stdout",
     "output_type": "stream",
     "text": [
      "3\n",
      "5\n",
      "15\n"
     ]
    }
   ],
   "source": [
    "#Multiplication (Recursive)\n",
    "def product( x , y ):\n",
    "    if x < y:\n",
    "        return product(y, x)\n",
    "    \n",
    "    elif y != 0:\n",
    "        return (x + product(x, y - 1))\n",
    "    \n",
    "    else:\n",
    "        return 0\n",
    " \n",
    "x =int(input())\n",
    "y =int(input())\n",
    "print( product(x, y))"
   ]
  },
  {
   "cell_type": "code",
   "execution_count": 4,
   "id": "4593175f",
   "metadata": {},
   "outputs": [
    {
     "name": "stdout",
     "output_type": "stream",
     "text": [
      "098700029\n",
      "3\n"
     ]
    }
   ],
   "source": [
    "# count zero \n",
    "def countZeros(n):\n",
    "    if n<0:\n",
    "        n *= -1;  # Make n positive\n",
    "    if n<10:\n",
    "        if n == 0:\n",
    "            return 1\n",
    "        return 0\n",
    "    smallAns = countZeros(n // 10)\n",
    "    if n%10==0:\n",
    "        smallAns += 1\n",
    "    return smallAns\n",
    "\n",
    "# Main\n",
    "from sys import setrecursionlimit\n",
    "setrecursionlimit(11000)\n",
    "n=int(input())\n",
    "print(countZeros(n))"
   ]
  },
  {
   "cell_type": "code",
   "execution_count": 5,
   "id": "350f28ad",
   "metadata": {},
   "outputs": [
    {
     "name": "stdout",
     "output_type": "stream",
     "text": [
      "000005475\n",
      "5475\n"
     ]
    }
   ],
   "source": [
    "# string to integer\n",
    "def stringToInt(str):\n",
    " \n",
    "    if (len(str) == 1):\n",
    "        return ord(str[0]) - ord('0');\n",
    " \n",
    "    y = stringToInt(str[1:]);\n",
    "    x = ord(str[0]) - ord('0');\n",
    "    x = x * (10**(len(str) - 1)) + y;\n",
    "    return int(x);\n",
    " \n",
    "# Driver code\n",
    "\n",
    "str = input()\n",
    "print(stringToInt(str))"
   ]
  },
  {
   "cell_type": "code",
   "execution_count": 6,
   "id": "db2569bf",
   "metadata": {},
   "outputs": [
    {
     "name": "stdout",
     "output_type": "stream",
     "text": [
      "hello\n",
      "hel*lo\n"
     ]
    }
   ],
   "source": [
    "# pair Star\n",
    "def pairStar(Input, Output, i = 0) :\n",
    "     \n",
    "    Output = Output + Input[i]\n",
    " \n",
    "    if (i == len(Input) - 1) :\n",
    "        print(Output)\n",
    "        return;\n",
    " \n",
    "    if (Input[i] == Input[i + 1]) :\n",
    "        Output = Output + '*';\n",
    " \n",
    "    pairStar(Input, Output, i + 1);\n",
    " \n",
    "\n",
    " \n",
    "Input = input()\n",
    "Output = \"\"\n",
    "pairStar(Input, Output);"
   ]
  },
  {
   "cell_type": "code",
   "execution_count": 7,
   "id": "4e882160",
   "metadata": {},
   "outputs": [
    {
     "name": "stdout",
     "output_type": "stream",
     "text": [
      "abb\n",
      "true\n"
     ]
    }
   ],
   "source": [
    "# Cheak AB\n",
    "def checkAB(str) :\n",
    "    if(len(str) == 0):\n",
    "        return True\n",
    "    if(str[0] == 'a') :\n",
    "        if(len(str[1:]) > 1 and str[1:3] == 'bb') :\n",
    "            return checkAB(str[3:])\n",
    "        else:\n",
    "            return checkAB(str[1:])\n",
    "    else :\n",
    "        return False\n",
    "\n",
    "    \n",
    "str=input()\n",
    "if(checkAB(str)):\n",
    "    print(\"true\")\n",
    "else:\n",
    "    print(\"false\")\n",
    "    "
   ]
  },
  {
   "cell_type": "code",
   "execution_count": 8,
   "id": "00ec991f",
   "metadata": {},
   "outputs": [
    {
     "name": "stdout",
     "output_type": "stream",
     "text": [
      "7\n",
      "44\n"
     ]
    }
   ],
   "source": [
    "# Staircase\n",
    "def findStep(n):\n",
    "    if ( n == 0 ):\n",
    "        return 1\n",
    "    elif (n < 0):\n",
    "        return 0\n",
    " \n",
    "    else:\n",
    "        return findStep(n - 3) + findStep(n - 2) + findStep(n - 1)\n",
    " \n",
    " \n",
    "# Driver code\n",
    "n = int(input())\n",
    "print(findStep(n))"
   ]
  },
  {
   "cell_type": "code",
   "execution_count": null,
   "id": "92f84439",
   "metadata": {},
   "outputs": [],
   "source": []
  }
 ],
 "metadata": {
  "kernelspec": {
   "display_name": "Python 3",
   "language": "python",
   "name": "python3"
  },
  "language_info": {
   "codemirror_mode": {
    "name": "ipython",
    "version": 3
   },
   "file_extension": ".py",
   "mimetype": "text/x-python",
   "name": "python",
   "nbconvert_exporter": "python",
   "pygments_lexer": "ipython3",
   "version": "3.8.8"
  }
 },
 "nbformat": 4,
 "nbformat_minor": 5
}
