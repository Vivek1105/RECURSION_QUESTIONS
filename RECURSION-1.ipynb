{
 "cells": [
  {
   "cell_type": "code",
   "execution_count": 1,
   "id": "9d26528e",
   "metadata": {},
   "outputs": [
    {
     "name": "stdout",
     "output_type": "stream",
     "text": [
      "5\n"
     ]
    },
    {
     "data": {
      "text/plain": [
       "120"
      ]
     },
     "execution_count": 1,
     "metadata": {},
     "output_type": "execute_result"
    }
   ],
   "source": [
    "# factorial\n",
    "def fact(n):\n",
    "    if n==0:\n",
    "        return 1\n",
    "    return n* fact(n-1) # formula\n",
    "n=int(input())\n",
    "fact(n)"
   ]
  },
  {
   "cell_type": "code",
   "execution_count": 2,
   "id": "5d753f46",
   "metadata": {},
   "outputs": [
    {
     "name": "stdout",
     "output_type": "stream",
     "text": [
      "5\n",
      "15\n"
     ]
    }
   ],
   "source": [
    "# sum of natural number\n",
    "def natural(n):\n",
    "    sum=0\n",
    "    for i in range(0,n+1):\n",
    "        sum=sum+i\n",
    "    print(sum)\n",
    "    \n",
    "n= int(input())\n",
    "natural(n)"
   ]
  },
  {
   "cell_type": "code",
   "execution_count": 7,
   "id": "ef255449",
   "metadata": {},
   "outputs": [
    {
     "name": "stdout",
     "output_type": "stream",
     "text": [
      "5\n",
      "15\n"
     ]
    }
   ],
   "source": [
    "# sum of natural number using recursion\n",
    "def sum_n(n):\n",
    "    if n==0:\n",
    "        return 0\n",
    "    return n+sum_n(n-1) # formula\n",
    "n=int(input())\n",
    "print(sum_n(n))"
   ]
  },
  {
   "cell_type": "code",
   "execution_count": 5,
   "id": "7155151c",
   "metadata": {},
   "outputs": [
    {
     "name": "stdout",
     "output_type": "stream",
     "text": [
      "3 4\n",
      "81\n"
     ]
    }
   ],
   "source": [
    "## power of a ,b\n",
    "def power(a,b):\n",
    "    if b==0:\n",
    "        return 1\n",
    "        \n",
    "    return a*power(a,b-1)\n",
    "a,b = input().split()\n",
    "a=int(a) \n",
    "b=int(b)\n",
    "print(power(a,b))\n",
    "    "
   ]
  },
  {
   "cell_type": "code",
   "execution_count": 13,
   "id": "36e96996",
   "metadata": {},
   "outputs": [
    {
     "name": "stdout",
     "output_type": "stream",
     "text": [
      "3 4\n",
      "81\n"
     ]
    }
   ],
   "source": [
    "a,b = input().split()\n",
    "a=int(a)\n",
    "b=int(b)\n",
    "\n",
    "print(a**b)\n",
    "    "
   ]
  },
  {
   "cell_type": "code",
   "execution_count": 9,
   "id": "a37bdb0d",
   "metadata": {},
   "outputs": [
    {
     "name": "stdout",
     "output_type": "stream",
     "text": [
      "7\n",
      "1\n",
      "2\n",
      "3\n",
      "4\n",
      "5\n",
      "6\n",
      "7\n",
      "None\n"
     ]
    }
   ],
   "source": [
    "def natural(n):\n",
    "    if n==0:\n",
    "        return\n",
    "    natural(n-1)\n",
    "    print(n)\n",
    "    \n",
    "\n",
    "n=int(input())\n",
    "print(natural(n))\n",
    " \n"
   ]
  },
  {
   "cell_type": "code",
   "execution_count": null,
   "id": "52ec8aa8",
   "metadata": {},
   "outputs": [],
   "source": []
  },
  {
   "cell_type": "code",
   "execution_count": 1,
   "id": "c1c30e44",
   "metadata": {},
   "outputs": [
    {
     "name": "stdout",
     "output_type": "stream",
     "text": [
      "4\n",
      "1 2 3 4\n",
      "10\n"
     ]
    }
   ],
   "source": [
    "# SUM OF ARRAY\n",
    "def sumArray(arr):\n",
    "    l=len(arr)\n",
    "    if l==1:\n",
    "        return arr[0]\n",
    "    return arr[0]+sumArray(arr[1:]) \n",
    "\n",
    "# Main\n",
    "from sys import setrecursionlimit\n",
    "setrecursionlimit(11000)\n",
    "n=int(input())\n",
    "arr=list(int(i) for i in input().strip().split(' '))\n",
    "print(sumArray(arr))\n"
   ]
  },
  {
   "cell_type": "code",
   "execution_count": 2,
   "id": "c5b7d643",
   "metadata": {},
   "outputs": [
    {
     "name": "stdout",
     "output_type": "stream",
     "text": [
      "4\n",
      "1 4 2 3\n",
      "4\n",
      "true\n"
     ]
    }
   ],
   "source": [
    "# CHEAK NUMBER IN ARRAY\n",
    "def checkNumber(arr, x):\n",
    "    # Please add your code here\n",
    "    l=len(arr)\n",
    "    if l==0:\n",
    "        return False\n",
    "    if arr[0]==x:\n",
    "        return True\n",
    "    return checkNumber(arr[1:], x)\n",
    "\n",
    "# Main\n",
    "from sys import setrecursionlimit\n",
    "setrecursionlimit(11000)\n",
    "n=int(input())\n",
    "arr=list(int(i) for i in input().strip().split(' '))\n",
    "x=int(input())\n",
    "if checkNumber(arr, x):\n",
    "    print('true')\n",
    "else:\n",
    "    print('false')\n"
   ]
  },
  {
   "cell_type": "code",
   "execution_count": 3,
   "id": "f9a81454",
   "metadata": {},
   "outputs": [
    {
     "name": "stdout",
     "output_type": "stream",
     "text": [
      "5\n",
      "1 9 8 9 7\n",
      "9\n",
      "1\n"
     ]
    }
   ],
   "source": [
    "# PRINTING FIRST INDEX OF NUMBER IN ARRAY\n",
    "def firstIndex(arr,x):\n",
    "     l=len(arr)\n",
    "     if l==0:\n",
    "        return -1\n",
    "     if arr[0]==x:\n",
    "         return 0\n",
    "     smallerlist=arr[1:]\n",
    "     smallerlistoutput=firstIndex(smallerlist,x)\n",
    "    \n",
    "     if smallerlistoutput== -1:\n",
    "        return -1\n",
    "     else:\n",
    "        return smallerlistoutput +1\n",
    "    \n",
    "\n",
    "    \n",
    "       \n",
    "# Main\n",
    "from sys import setrecursionlimit\n",
    "setrecursionlimit(11000)\n",
    "n=int(input())\n",
    "arr=list(int(i) for i in input().strip().split(' '))\n",
    "x=int(input())\n",
    "print(firstIndex(arr, x))\n"
   ]
  },
  {
   "cell_type": "code",
   "execution_count": 4,
   "id": "6667a1ac",
   "metadata": {},
   "outputs": [
    {
     "name": "stdout",
     "output_type": "stream",
     "text": [
      "5\n",
      "6 3 6 4 2\n",
      "6\n",
      "2\n"
     ]
    }
   ],
   "source": [
    "# PRINTING LAST INDEX OF NUMBER PRESENR IN ARRY\n",
    "def lastIndex(arr,x):\n",
    "    l=len(arr)\n",
    "    if l==0:\n",
    "        return -1\n",
    "    smallerlist=arr[1:]\n",
    "    smallerlistoutput=lastIndex(smallerlist,x)\n",
    "    \n",
    "    if smallerlistoutput != -1:\n",
    "        return smallerlistoutput +1\n",
    "    \n",
    "    else:\n",
    "        if arr[0]==x:\n",
    "            return 0\n",
    "        else:\n",
    "            return -1\n",
    "        \n",
    "\n",
    "n=int(input())\n",
    "arr=list(int(i) for i in input().split())\n",
    "x=int(input())\n",
    "print(lastIndex(arr,x))"
   ]
  },
  {
   "cell_type": "code",
   "execution_count": null,
   "id": "8c82457d",
   "metadata": {},
   "outputs": [],
   "source": []
  }
 ],
 "metadata": {
  "kernelspec": {
   "display_name": "Python 3",
   "language": "python",
   "name": "python3"
  },
  "language_info": {
   "codemirror_mode": {
    "name": "ipython",
    "version": 3
   },
   "file_extension": ".py",
   "mimetype": "text/x-python",
   "name": "python",
   "nbconvert_exporter": "python",
   "pygments_lexer": "ipython3",
   "version": "3.8.8"
  }
 },
 "nbformat": 4,
 "nbformat_minor": 5
}
