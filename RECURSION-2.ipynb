{
 "cells": [
  {
   "cell_type": "markdown",
   "id": "0edcc0f2",
   "metadata": {},
   "source": [
    "## Replace string"
   ]
  },
  {
   "cell_type": "code",
   "execution_count": 1,
   "id": "1468566b",
   "metadata": {},
   "outputs": [],
   "source": [
    "def replace(s,x,y):\n",
    "    if len(s)==0:\n",
    "        return s\n",
    "    if s[0]==x:\n",
    "        return y+replace(s[1:],x,y)\n",
    "    else:\n",
    "        return s[0]+replace(s[1:],x,y)\n",
    "         "
   ]
  },
  {
   "cell_type": "code",
   "execution_count": 2,
   "id": "d3746e99",
   "metadata": {},
   "outputs": [
    {
     "data": {
      "text/plain": [
       "'abxdefxgx'"
      ]
     },
     "execution_count": 2,
     "metadata": {},
     "output_type": "execute_result"
    }
   ],
   "source": [
    "replace('abcdefcgc',\"c\",'x')\n"
   ]
  },
  {
   "cell_type": "markdown",
   "id": "e799c792",
   "metadata": {},
   "source": [
    "## Remove"
   ]
  },
  {
   "cell_type": "code",
   "execution_count": 3,
   "id": "91b782bc",
   "metadata": {},
   "outputs": [],
   "source": [
    "def removeX(s):\n",
    "    if len(s)==0:\n",
    "        return s\n",
    "    if s[0]=='x':\n",
    "        return removeX(s[1:])\n",
    "    else:\n",
    "        return s[0]+ removeX(s[1:])"
   ]
  },
  {
   "cell_type": "code",
   "execution_count": 4,
   "id": "e37d8de6",
   "metadata": {},
   "outputs": [
    {
     "data": {
      "text/plain": [
       "'aa'"
      ]
     },
     "execution_count": 4,
     "metadata": {},
     "output_type": "execute_result"
    }
   ],
   "source": [
    "removeX('xaxa')"
   ]
  },
  {
   "cell_type": "markdown",
   "id": "a74d8019",
   "metadata": {},
   "source": [
    "## Replace pi"
   ]
  },
  {
   "cell_type": "code",
   "execution_count": 5,
   "id": "dfd5d0b9",
   "metadata": {},
   "outputs": [],
   "source": [
    "def replacepi(s):\n",
    "    if len(s)==0 or len(s)==1:\n",
    "        return s\n",
    "    \n",
    "    if s[0]== 'p' and s[1]=='i':\n",
    "        return '3.14' + replacepi(s[2:])\n",
    "    else:\n",
    "        return s[0]+replacepi(s[1:])"
   ]
  },
  {
   "cell_type": "code",
   "execution_count": 6,
   "id": "2e8e697a",
   "metadata": {},
   "outputs": [
    {
     "data": {
      "text/plain": [
       "'a3.14bc3.14'"
      ]
     },
     "execution_count": 6,
     "metadata": {},
     "output_type": "execute_result"
    }
   ],
   "source": [
    "replacepi('apibcpi')"
   ]
  },
  {
   "cell_type": "markdown",
   "id": "1d29313b",
   "metadata": {},
   "source": [
    "## Remove Duplicate"
   ]
  },
  {
   "cell_type": "code",
   "execution_count": 19,
   "id": "1b326fe7",
   "metadata": {},
   "outputs": [],
   "source": [
    "def removeconsecutiveduplicate(s):\n",
    "    if len(s)==0 or len(s)==1:\n",
    "        return s\n",
    "    if s[0]==s[1]:\n",
    "        return  removeconsecutiveduplicate(s[1:])\n",
    "    else:\n",
    "        return s[0] + removeconsecutiveduplicate(s[1:])"
   ]
  },
  {
   "cell_type": "code",
   "execution_count": 20,
   "id": "f7c3acec",
   "metadata": {},
   "outputs": [
    {
     "data": {
      "text/plain": [
       "'xyzwz'"
      ]
     },
     "execution_count": 20,
     "metadata": {},
     "output_type": "execute_result"
    }
   ],
   "source": [
    "removeconsecutiveduplicate('xxxyyyzwwzzz')"
   ]
  },
  {
   "cell_type": "markdown",
   "id": "4eb2cad9",
   "metadata": {},
   "source": [
    "## Binary Search using Recursion "
   ]
  },
  {
   "cell_type": "code",
   "execution_count": 13,
   "id": "7f830e9d",
   "metadata": {},
   "outputs": [],
   "source": [
    "def Binary_search(a,x,si,ei):\n",
    "    if si >ei:\n",
    "        return -1\n",
    "    mid= (si + ei)//2\n",
    "    \n",
    "    if a[mid]==x:\n",
    "        return mid\n",
    "    elif a[mid]>x:\n",
    "        return Binary_search(a,x,si,mid-1)\n",
    "    else:\n",
    "        return Binary_search(a,x,mid+1,ei)"
   ]
  },
  {
   "cell_type": "code",
   "execution_count": 14,
   "id": "86a0d2e7",
   "metadata": {},
   "outputs": [
    {
     "data": {
      "text/plain": [
       "4"
      ]
     },
     "execution_count": 14,
     "metadata": {},
     "output_type": "execute_result"
    }
   ],
   "source": [
    "Binary_search([4,5,6,7,8,9],8,0,5)"
   ]
  },
  {
   "cell_type": "code",
   "execution_count": null,
   "id": "114a3e3d",
   "metadata": {},
   "outputs": [],
   "source": []
  },
  {
   "cell_type": "markdown",
   "id": "493c236a",
   "metadata": {},
   "source": [
    "## Merge Sort "
   ]
  },
  {
   "cell_type": "code",
   "execution_count": 1,
   "id": "6fcbb230",
   "metadata": {},
   "outputs": [
    {
     "name": "stdout",
     "output_type": "stream",
     "text": [
      "6\n",
      "1 4 2 8 5 \n",
      "1 2 4 5 8\n"
     ]
    }
   ],
   "source": [
    "def merge(m1,m2,a):\n",
    "    i=0\n",
    "    j=0\n",
    "    k=0\n",
    "    while i<len(m1) and j<len(m2):\n",
    "        if m1[i]<m2[j]:\n",
    "            a[k]=m1[i]\n",
    "            k=k+1\n",
    "            i=i+1\n",
    "        else:\n",
    "            a[k]=m2[j]\n",
    "            k=k+1\n",
    "            j=j+1\n",
    "            \n",
    "    while i<len(m1):\n",
    "        a[k]=m1[i]\n",
    "        k=k+1\n",
    "        i=i+1\n",
    "    while j<len(m2):\n",
    "        a[k]=m2[j]\n",
    "        k=k+1\n",
    "        j=j+1\n",
    "        \n",
    "def merge_sort(a):\n",
    "    if len(a)==0 or len(a)==1:\n",
    "        return\n",
    "    mid=len(a)//2\n",
    "    \n",
    "    m1=a[0:mid]\n",
    "    m2=a[mid:]\n",
    "    \n",
    "    merge_sort(m1)\n",
    "    merge_sort(m2)\n",
    "    \n",
    "    merge(m1,m2,a)\n",
    "    \n",
    "n=int(input())\n",
    "a=list(int(i) for i in input().strip().split(' '))\n",
    "merge_sort(a)\n",
    "print(*a)"
   ]
  },
  {
   "cell_type": "markdown",
   "id": "af855f9f",
   "metadata": {},
   "source": [
    "## Quick Sort"
   ]
  },
  {
   "cell_type": "code",
   "execution_count": 3,
   "id": "20f4bf11",
   "metadata": {},
   "outputs": [
    {
     "name": "stdout",
     "output_type": "stream",
     "text": [
      "6\n",
      "3 4 5 6 2 1\n",
      "1 2 3 4 5 6\n"
     ]
    }
   ],
   "source": [
    "def partition(a,si,ei):\n",
    "    pivot = a[si]\n",
    "    # find number of element smaller then pivot\n",
    "    c=0\n",
    "    for i in range(si, ei+1):\n",
    "        if a[i]<pivot:\n",
    "            c=c+1\n",
    "    a[si+c],a[si] = a[si],a[si+c]\n",
    "    pivot_index = si+c\n",
    "    \n",
    "    i = si\n",
    "    j = ei\n",
    "    while i<j:\n",
    "        if a[i]<pivot:\n",
    "            i=i+1\n",
    "        elif a[j]>=pivot:\n",
    "            j=j-1\n",
    "        else:\n",
    "            a[i],a[j]=a[j],a[i]\n",
    "            i= i+1\n",
    "            j= j-1\n",
    "            \n",
    "    return pivot_index\n",
    "\n",
    "\n",
    "def quick_sort(a, si, ei):\n",
    "    if si>=ei:\n",
    "        return \n",
    "    \n",
    "    pivot_index= partition(a, si, ei)\n",
    "    quick_sort(a, si, pivot_index-1)\n",
    "    quick_sort(a, pivot_index+1, ei)\n",
    "    \n",
    "\n",
    "    \n",
    "\n",
    "n=int(input())\n",
    "a=list(int(i) for i in input().strip().split(' '))\n",
    "quick_sort(a, 0, n-1)\n",
    "print(*a)\n"
   ]
  },
  {
   "cell_type": "markdown",
   "id": "47bf779c",
   "metadata": {},
   "source": [
    "## Tower Of Hanoi - Problem"
   ]
  },
  {
   "cell_type": "code",
   "execution_count": 4,
   "id": "eef7c24f",
   "metadata": {},
   "outputs": [
    {
     "name": "stdout",
     "output_type": "stream",
     "text": [
      "3\n",
      "a c\n",
      "a b\n",
      "c b\n",
      "a c\n",
      "b a\n",
      "b c\n",
      "a c\n"
     ]
    }
   ],
   "source": [
    "def tower_hanoi(n,a,b,c):\n",
    "    if n==0:\n",
    "        return\n",
    "    if n==1 :\n",
    "        print(a,c)\n",
    "        return\n",
    "    \n",
    "    tower_hanoi(n-1,a,c,b)\n",
    "    print(a,c)\n",
    "    tower_hanoi(n-1,b,a,c)\n",
    "        \n",
    "n=int(input())\n",
    "tower_hanoi(n, 'a', 'b', 'c')\n"
   ]
  },
  {
   "cell_type": "code",
   "execution_count": null,
   "id": "7ff03ba4",
   "metadata": {},
   "outputs": [],
   "source": []
  }
 ],
 "metadata": {
  "kernelspec": {
   "display_name": "Python 3",
   "language": "python",
   "name": "python3"
  },
  "language_info": {
   "codemirror_mode": {
    "name": "ipython",
    "version": 3
   },
   "file_extension": ".py",
   "mimetype": "text/x-python",
   "name": "python",
   "nbconvert_exporter": "python",
   "pygments_lexer": "ipython3",
   "version": "3.8.8"
  }
 },
 "nbformat": 4,
 "nbformat_minor": 5
}
